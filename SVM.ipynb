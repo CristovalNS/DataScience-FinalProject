{
 "cells": [
  {
   "cell_type": "code",
   "execution_count": 19,
   "id": "fd0d31ff-49cc-487b-8b67-13dc6f78d9fa",
   "metadata": {},
   "outputs": [],
   "source": [
    "import pandas as pd\n",
    "import numpy as np\n",
    "import time\n",
    "from sklearn.model_selection import train_test_split\n",
    "from sklearn.linear_model import LinearRegression\n",
    "from sklearn.metrics import mean_squared_error\n",
    "from sklearn.preprocessing import LabelEncoder\n",
    "from sklearn.svm import SVR\n",
    "import matplotlib.pyplot as plt"
   ]
  },
  {
   "cell_type": "code",
   "execution_count": 2,
   "id": "df64bd78-f37e-478f-b8cf-9d8781511b88",
   "metadata": {},
   "outputs": [],
   "source": [
    "# Load the data\n",
    "df = pd.read_csv(\"new_unicorn_data_updated.csv\")"
   ]
  },
  {
   "cell_type": "code",
   "execution_count": 3,
   "id": "978ff41d-388a-4f18-965a-1d15ea54ae9f",
   "metadata": {},
   "outputs": [
    {
     "data": {
      "text/html": [
       "<div>\n",
       "<style scoped>\n",
       "    .dataframe tbody tr th:only-of-type {\n",
       "        vertical-align: middle;\n",
       "    }\n",
       "\n",
       "    .dataframe tbody tr th {\n",
       "        vertical-align: top;\n",
       "    }\n",
       "\n",
       "    .dataframe thead th {\n",
       "        text-align: right;\n",
       "    }\n",
       "</style>\n",
       "<table border=\"1\" class=\"dataframe\">\n",
       "  <thead>\n",
       "    <tr style=\"text-align: right;\">\n",
       "      <th></th>\n",
       "      <th>Company</th>\n",
       "      <th>Date Joined</th>\n",
       "      <th>Industry</th>\n",
       "      <th>Country</th>\n",
       "      <th>City</th>\n",
       "      <th>Continent</th>\n",
       "      <th>Year Founded</th>\n",
       "      <th>Funding</th>\n",
       "      <th>Funding_Numeric ($B)</th>\n",
       "      <th>Valuation (March) ($B)</th>\n",
       "      <th>Select Investors (March)</th>\n",
       "      <th>Valuation (November) ($B)</th>\n",
       "      <th>Select Investors (November)</th>\n",
       "      <th>Years to Unicorn</th>\n",
       "      <th>Most Recent Valuation</th>\n",
       "    </tr>\n",
       "  </thead>\n",
       "  <tbody>\n",
       "    <tr>\n",
       "      <th>0</th>\n",
       "      <td>SpaceX</td>\n",
       "      <td>2012-12-01</td>\n",
       "      <td>Other</td>\n",
       "      <td>United States</td>\n",
       "      <td>Hawthorne</td>\n",
       "      <td>North America</td>\n",
       "      <td>2002</td>\n",
       "      <td>$7B</td>\n",
       "      <td>7.000</td>\n",
       "      <td>100</td>\n",
       "      <td>Founders Fund, Draper Fisher Jurvetson, Rothen...</td>\n",
       "      <td>127.0</td>\n",
       "      <td>Founders Fund, Draper Fisher Jurvetson, Rothen...</td>\n",
       "      <td>10</td>\n",
       "      <td>127.0</td>\n",
       "    </tr>\n",
       "    <tr>\n",
       "      <th>1</th>\n",
       "      <td>SHEIN</td>\n",
       "      <td>2018-07-03</td>\n",
       "      <td>E-commerce And Direct-to-consumer</td>\n",
       "      <td>China</td>\n",
       "      <td>Shenzhen</td>\n",
       "      <td>Asia</td>\n",
       "      <td>2008</td>\n",
       "      <td>$2B</td>\n",
       "      <td>2.000</td>\n",
       "      <td>100</td>\n",
       "      <td>Tiger Global Management, Sequoia Capital China...</td>\n",
       "      <td>100.0</td>\n",
       "      <td>Tiger Global Management, Sequoia Capital China...</td>\n",
       "      <td>10</td>\n",
       "      <td>100.0</td>\n",
       "    </tr>\n",
       "    <tr>\n",
       "      <th>2</th>\n",
       "      <td>Stripe</td>\n",
       "      <td>2014-01-23</td>\n",
       "      <td>Fintech</td>\n",
       "      <td>United States</td>\n",
       "      <td>San Francisco</td>\n",
       "      <td>North America</td>\n",
       "      <td>2010</td>\n",
       "      <td>$2B</td>\n",
       "      <td>2.000</td>\n",
       "      <td>95</td>\n",
       "      <td>Khosla Ventures, LowercaseCapital, capitalG</td>\n",
       "      <td>95.0</td>\n",
       "      <td>Khosla Ventures, LowercaseCapital, capitalG</td>\n",
       "      <td>4</td>\n",
       "      <td>95.0</td>\n",
       "    </tr>\n",
       "    <tr>\n",
       "      <th>3</th>\n",
       "      <td>Klarna</td>\n",
       "      <td>2011-12-12</td>\n",
       "      <td>Fintech</td>\n",
       "      <td>Sweden</td>\n",
       "      <td>Stockholm</td>\n",
       "      <td>Europe</td>\n",
       "      <td>2005</td>\n",
       "      <td>$4B</td>\n",
       "      <td>4.000</td>\n",
       "      <td>46</td>\n",
       "      <td>Institutional Venture Partners, Sequoia Capita...</td>\n",
       "      <td>6.7</td>\n",
       "      <td>Institutional Venture Partners, Sequoia Capita...</td>\n",
       "      <td>6</td>\n",
       "      <td>6.7</td>\n",
       "    </tr>\n",
       "    <tr>\n",
       "      <th>4</th>\n",
       "      <td>Canva</td>\n",
       "      <td>2018-01-08</td>\n",
       "      <td>Internet Software And Services</td>\n",
       "      <td>Australia</td>\n",
       "      <td>Surry Hills</td>\n",
       "      <td>Oceania</td>\n",
       "      <td>2012</td>\n",
       "      <td>$572M</td>\n",
       "      <td>0.572</td>\n",
       "      <td>40</td>\n",
       "      <td>Sequoia Capital China, Blackbird Ventures, Mat...</td>\n",
       "      <td>40.0</td>\n",
       "      <td>Sequoia Capital China, Blackbird Ventures, Mat...</td>\n",
       "      <td>6</td>\n",
       "      <td>40.0</td>\n",
       "    </tr>\n",
       "  </tbody>\n",
       "</table>\n",
       "</div>"
      ],
      "text/plain": [
       "  Company Date Joined                           Industry        Country  \\\n",
       "0  SpaceX  2012-12-01                              Other  United States   \n",
       "1   SHEIN  2018-07-03  E-commerce And Direct-to-consumer          China   \n",
       "2  Stripe  2014-01-23                            Fintech  United States   \n",
       "3  Klarna  2011-12-12                            Fintech         Sweden   \n",
       "4   Canva  2018-01-08     Internet Software And Services      Australia   \n",
       "\n",
       "            City      Continent  Year Founded Funding  Funding_Numeric ($B)  \\\n",
       "0      Hawthorne  North America          2002     $7B                 7.000   \n",
       "1       Shenzhen           Asia          2008     $2B                 2.000   \n",
       "2  San Francisco  North America          2010     $2B                 2.000   \n",
       "3      Stockholm         Europe          2005     $4B                 4.000   \n",
       "4    Surry Hills        Oceania          2012   $572M                 0.572   \n",
       "\n",
       "   Valuation (March) ($B)                           Select Investors (March)  \\\n",
       "0                     100  Founders Fund, Draper Fisher Jurvetson, Rothen...   \n",
       "1                     100  Tiger Global Management, Sequoia Capital China...   \n",
       "2                      95        Khosla Ventures, LowercaseCapital, capitalG   \n",
       "3                      46  Institutional Venture Partners, Sequoia Capita...   \n",
       "4                      40  Sequoia Capital China, Blackbird Ventures, Mat...   \n",
       "\n",
       "   Valuation (November) ($B)  \\\n",
       "0                      127.0   \n",
       "1                      100.0   \n",
       "2                       95.0   \n",
       "3                        6.7   \n",
       "4                       40.0   \n",
       "\n",
       "                         Select Investors (November)  Years to Unicorn  \\\n",
       "0  Founders Fund, Draper Fisher Jurvetson, Rothen...                10   \n",
       "1  Tiger Global Management, Sequoia Capital China...                10   \n",
       "2        Khosla Ventures, LowercaseCapital, capitalG                 4   \n",
       "3  Institutional Venture Partners, Sequoia Capita...                 6   \n",
       "4  Sequoia Capital China, Blackbird Ventures, Mat...                 6   \n",
       "\n",
       "   Most Recent Valuation  \n",
       "0                  127.0  \n",
       "1                  100.0  \n",
       "2                   95.0  \n",
       "3                    6.7  \n",
       "4                   40.0  "
      ]
     },
     "execution_count": 3,
     "metadata": {},
     "output_type": "execute_result"
    }
   ],
   "source": [
    "df.head()"
   ]
  },
  {
   "cell_type": "code",
   "execution_count": 4,
   "id": "02f25b9b-00a6-4615-ae80-1aa2a2ddaaec",
   "metadata": {},
   "outputs": [
    {
     "name": "stdout",
     "output_type": "stream",
     "text": [
      "Encoded_Industry Mapping:\n",
      "0 = Artificial Intelligence\n",
      "1 = Auto And Transportation\n",
      "2 = Consumer And Retail\n",
      "3 = Cybersecurity\n",
      "4 = Data Management And Analytics\n",
      "5 = E-commerce And Direct-to-consumer\n",
      "6 = Edtech\n",
      "7 = Fintech\n",
      "8 = Hardware\n",
      "9 = Health\n",
      "10 = Internet Software And Services\n",
      "11 = Mobile And Telecommunications\n",
      "12 = Other\n",
      "13 = Supply Chain, Logistics, And Delivery\n",
      "14 = Travel\n",
      "\n",
      "Encoded_Country Mapping:\n",
      "0 = Argentina\n",
      "1 = Australia\n",
      "2 = Austria\n",
      "3 = Bahamas\n",
      "4 = Belgium\n",
      "5 = Bermuda\n",
      "6 = Brazil\n",
      "7 = Canada\n",
      "8 = Chile\n",
      "9 = China\n",
      "10 = Colombia\n",
      "11 = Croatia\n",
      "12 = Denmark\n",
      "13 = Estonia\n",
      "14 = Finland\n",
      "15 = France\n",
      "16 = Germany\n",
      "17 = Hong Kong\n",
      "18 = India\n",
      "19 = Indonesia\n",
      "20 = Ireland\n",
      "21 = Israel\n",
      "22 = Italy\n",
      "23 = Japan\n",
      "24 = Lithuania\n",
      "25 = Luxembourg\n",
      "26 = Malaysia\n",
      "27 = Mexico\n",
      "28 = Netherlands\n",
      "29 = Nigeria\n",
      "30 = Norway\n",
      "31 = Philippines\n",
      "32 = Senegal\n",
      "33 = Singapore\n",
      "34 = South Africa\n",
      "35 = South Korea\n",
      "36 = Spain\n",
      "37 = Sweden\n",
      "38 = Switzerland\n",
      "39 = Thailand\n",
      "40 = Turkey\n",
      "41 = United Arab Emirates\n",
      "42 = United Kingdom\n",
      "43 = United States\n",
      "44 = Vietnam\n"
     ]
    }
   ],
   "source": [
    "# Encode 'Industry'\n",
    "industry_le = LabelEncoder()\n",
    "df['Encoded_Industry'] = industry_le.fit_transform(df['Industry'])\n",
    "\n",
    "# Encode 'Country'\n",
    "country_le = LabelEncoder()\n",
    "df['Encoded_Country'] = country_le.fit_transform(df['Country'])\n",
    "\n",
    "# Print the mapping dictionaries for 'Industry' and 'Country'\n",
    "industry_mapping_dict = dict(zip(df['Encoded_Industry'].unique(), industry_le.inverse_transform(df['Encoded_Industry'].unique())))\n",
    "sorted_industry_mapping_dict = sorted(industry_mapping_dict.items(), key=lambda x: x[0])\n",
    "\n",
    "country_mapping_dict = dict(zip(df['Encoded_Country'].unique(), country_le.inverse_transform(df['Encoded_Country'].unique())))\n",
    "sorted_country_mapping_dict = sorted(country_mapping_dict.items(), key=lambda x: x[0])\n",
    "\n",
    "print(\"Encoded_Industry Mapping:\")\n",
    "for key, value in sorted_industry_mapping_dict:\n",
    "    print(f\"{key} = {value}\")\n",
    "\n",
    "print(\"\\nEncoded_Country Mapping:\")\n",
    "for key, value in sorted_country_mapping_dict:\n",
    "    print(f\"{key} = {value}\")"
   ]
  },
  {
   "cell_type": "code",
   "execution_count": 6,
   "id": "d961d350-3f36-4ede-b155-adc6e2ba83bc",
   "metadata": {},
   "outputs": [],
   "source": [
    "# CompanyAge\n",
    "df[\"CompanyAge\"] = 2023 - df[\"Year Founded\"]"
   ]
  },
  {
   "cell_type": "code",
   "execution_count": 7,
   "id": "037ced38-df96-4e42-9a58-9ee4c56151fe",
   "metadata": {},
   "outputs": [
    {
     "data": {
      "text/plain": [
       "0       21\n",
       "1       15\n",
       "2       13\n",
       "3       18\n",
       "4       11\n",
       "        ..\n",
       "1034    11\n",
       "1035     8\n",
       "1036     5\n",
       "1037    18\n",
       "1038     9\n",
       "Name: CompanyAge, Length: 1039, dtype: int64"
      ]
     },
     "execution_count": 7,
     "metadata": {},
     "output_type": "execute_result"
    }
   ],
   "source": [
    "df[\"CompanyAge\"]"
   ]
  },
  {
   "cell_type": "code",
   "execution_count": 8,
   "id": "fdc3a11f-d090-4d5d-8985-fde81b09b613",
   "metadata": {},
   "outputs": [],
   "source": [
    "# Select features\n",
    "features = ['Encoded_Industry', 'Encoded_Country', 'CompanyAge', 'Funding_Numeric ($B)']"
   ]
  },
  {
   "cell_type": "code",
   "execution_count": null,
   "id": "402cf769-bdc0-474a-8a9b-683319f30148",
   "metadata": {},
   "outputs": [],
   "source": [
    "# The youngest Year now - Year Found"
   ]
  },
  {
   "cell_type": "code",
   "execution_count": 9,
   "id": "19094baa-8107-437a-8b8a-5ae03bdab65c",
   "metadata": {},
   "outputs": [
    {
     "data": {
      "text/html": [
       "<div>\n",
       "<style scoped>\n",
       "    .dataframe tbody tr th:only-of-type {\n",
       "        vertical-align: middle;\n",
       "    }\n",
       "\n",
       "    .dataframe tbody tr th {\n",
       "        vertical-align: top;\n",
       "    }\n",
       "\n",
       "    .dataframe thead th {\n",
       "        text-align: right;\n",
       "    }\n",
       "</style>\n",
       "<table border=\"1\" class=\"dataframe\">\n",
       "  <thead>\n",
       "    <tr style=\"text-align: right;\">\n",
       "      <th></th>\n",
       "      <th>Encoded_Industry</th>\n",
       "      <th>Encoded_Country</th>\n",
       "      <th>CompanyAge</th>\n",
       "      <th>Funding_Numeric ($B)</th>\n",
       "    </tr>\n",
       "  </thead>\n",
       "  <tbody>\n",
       "    <tr>\n",
       "      <th>0</th>\n",
       "      <td>12</td>\n",
       "      <td>43</td>\n",
       "      <td>21</td>\n",
       "      <td>7.000</td>\n",
       "    </tr>\n",
       "    <tr>\n",
       "      <th>1</th>\n",
       "      <td>5</td>\n",
       "      <td>9</td>\n",
       "      <td>15</td>\n",
       "      <td>2.000</td>\n",
       "    </tr>\n",
       "    <tr>\n",
       "      <th>2</th>\n",
       "      <td>7</td>\n",
       "      <td>43</td>\n",
       "      <td>13</td>\n",
       "      <td>2.000</td>\n",
       "    </tr>\n",
       "    <tr>\n",
       "      <th>3</th>\n",
       "      <td>7</td>\n",
       "      <td>37</td>\n",
       "      <td>18</td>\n",
       "      <td>4.000</td>\n",
       "    </tr>\n",
       "    <tr>\n",
       "      <th>4</th>\n",
       "      <td>10</td>\n",
       "      <td>1</td>\n",
       "      <td>11</td>\n",
       "      <td>0.572</td>\n",
       "    </tr>\n",
       "    <tr>\n",
       "      <th>...</th>\n",
       "      <td>...</td>\n",
       "      <td>...</td>\n",
       "      <td>...</td>\n",
       "      <td>...</td>\n",
       "    </tr>\n",
       "    <tr>\n",
       "      <th>1034</th>\n",
       "      <td>5</td>\n",
       "      <td>9</td>\n",
       "      <td>11</td>\n",
       "      <td>0.379</td>\n",
       "    </tr>\n",
       "    <tr>\n",
       "      <th>1035</th>\n",
       "      <td>5</td>\n",
       "      <td>9</td>\n",
       "      <td>8</td>\n",
       "      <td>0.990</td>\n",
       "    </tr>\n",
       "    <tr>\n",
       "      <th>1036</th>\n",
       "      <td>2</td>\n",
       "      <td>9</td>\n",
       "      <td>5</td>\n",
       "      <td>0.080</td>\n",
       "    </tr>\n",
       "    <tr>\n",
       "      <th>1037</th>\n",
       "      <td>7</td>\n",
       "      <td>42</td>\n",
       "      <td>18</td>\n",
       "      <td>0.792</td>\n",
       "    </tr>\n",
       "    <tr>\n",
       "      <th>1038</th>\n",
       "      <td>5</td>\n",
       "      <td>43</td>\n",
       "      <td>9</td>\n",
       "      <td>0.620</td>\n",
       "    </tr>\n",
       "  </tbody>\n",
       "</table>\n",
       "<p>1039 rows × 4 columns</p>\n",
       "</div>"
      ],
      "text/plain": [
       "      Encoded_Industry  Encoded_Country  CompanyAge  Funding_Numeric ($B)\n",
       "0                   12               43          21                 7.000\n",
       "1                    5                9          15                 2.000\n",
       "2                    7               43          13                 2.000\n",
       "3                    7               37          18                 4.000\n",
       "4                   10                1          11                 0.572\n",
       "...                ...              ...         ...                   ...\n",
       "1034                 5                9          11                 0.379\n",
       "1035                 5                9           8                 0.990\n",
       "1036                 2                9           5                 0.080\n",
       "1037                 7               42          18                 0.792\n",
       "1038                 5               43           9                 0.620\n",
       "\n",
       "[1039 rows x 4 columns]"
      ]
     },
     "execution_count": 9,
     "metadata": {},
     "output_type": "execute_result"
    }
   ],
   "source": [
    "X = df[features]\n",
    "X"
   ]
  },
  {
   "cell_type": "code",
   "execution_count": 10,
   "id": "3ef095a6-0ce3-43bc-ac66-9b59541edf26",
   "metadata": {},
   "outputs": [
    {
     "data": {
      "text/plain": [
       "0       10\n",
       "1       10\n",
       "2        4\n",
       "3        6\n",
       "4        6\n",
       "        ..\n",
       "1034     5\n",
       "1035     2\n",
       "1036     3\n",
       "1037    16\n",
       "1038     6\n",
       "Name: Years to Unicorn, Length: 1039, dtype: int64"
      ]
     },
     "execution_count": 10,
     "metadata": {},
     "output_type": "execute_result"
    }
   ],
   "source": [
    "Y = df['Years to Unicorn']\n",
    "Y"
   ]
  },
  {
   "cell_type": "code",
   "execution_count": 11,
   "id": "5ef31786-6037-48cd-8871-3eefe096030a",
   "metadata": {},
   "outputs": [],
   "source": [
    "# Split the data into training and testing sets\n",
    "X_train, X_test, Y_train, Y_test = train_test_split(X, Y, test_size=0.2, random_state=42)"
   ]
  },
  {
   "cell_type": "code",
   "execution_count": 12,
   "id": "689af8c9-6f9f-427f-940f-098ebaa78f7c",
   "metadata": {},
   "outputs": [],
   "source": [
    "# Create and train the SVM model for regression\n",
    "start_time = time.time()  # Record the start time\n",
    "svm_regressor = SVR(kernel='linear')  # You can try different kernels: 'linear', 'poly', 'rbf', etc.\n",
    "svm_regressor.fit(X_train, Y_train)\n",
    "end_time = time.time()  # Record the end time"
   ]
  },
  {
   "cell_type": "code",
   "execution_count": 13,
   "id": "21eefa80-bcf0-4938-8675-8ed623e26078",
   "metadata": {},
   "outputs": [],
   "source": [
    "# Make predictions\n",
    "Y_pred_svm = svm_regressor.predict(X_test)"
   ]
  },
  {
   "cell_type": "code",
   "execution_count": 15,
   "id": "f36d57e5-ee67-443d-8fac-53745085be9f",
   "metadata": {},
   "outputs": [
    {
     "name": "stdout",
     "output_type": "stream",
     "text": [
      "Training Time: 0.26806187629699707 seconds\n"
     ]
    }
   ],
   "source": [
    "# Calculate the training time\n",
    "training_time = end_time - start_time\n",
    "print(f'Training Time: {training_time} seconds')"
   ]
  },
  {
   "cell_type": "code",
   "execution_count": 16,
   "id": "51aa6c33-e33b-418f-bd7f-bd6598e98d5b",
   "metadata": {},
   "outputs": [
    {
     "name": "stdout",
     "output_type": "stream",
     "text": [
      "Mean Squared Error (SVM): 3.749645205301102\n"
     ]
    }
   ],
   "source": [
    "# Evaluate the model\n",
    "mse_svm = mean_squared_error(Y_test, Y_pred_svm)\n",
    "print(f'Mean Squared Error (SVM): {mse_svm}')"
   ]
  },
  {
   "cell_type": "code",
   "execution_count": 20,
   "id": "9e1ed694-1cae-4f41-a37b-cfddc64b5425",
   "metadata": {},
   "outputs": [
    {
     "name": "stdout",
     "output_type": "stream",
     "text": [
      "Root Mean Squared Error: 1.9364000633394696\n"
     ]
    }
   ],
   "source": [
    "# Root Mean Squared Error\n",
    "rmse = mean_squared_error(Y_test, Y_pred_svm)\n",
    "print(f'Root Mean Squared Error: {np.sqrt(rmse)}')"
   ]
  },
  {
   "cell_type": "code",
   "execution_count": 23,
   "id": "dfea316a-c208-4c4e-94bf-115cc6739318",
   "metadata": {},
   "outputs": [
    {
     "data": {
      "text/plain": [
       "0.7956968736269291"
      ]
     },
     "execution_count": 23,
     "metadata": {},
     "output_type": "execute_result"
    }
   ],
   "source": [
    "from sklearn.metrics import r2_score\n",
    "r2_score(Y_test, Y_pred_svm)"
   ]
  },
  {
   "cell_type": "code",
   "execution_count": 29,
   "id": "63e873bf-5a68-4bb3-b33c-ea656381f754",
   "metadata": {},
   "outputs": [
    {
     "data": {
      "image/png": "[encoded data removed]",
      "text/plain": [
       "<Figure size 1000x600 with 1 Axes>"
      ]
     },
     "metadata": {},
     "output_type": "display_data"
    }
   ],
   "source": [
    "# Plot the actual vs predicted values with the identity line\n",
    "plt.figure(figsize=(10, 6))\n",
    "plt.scatter(Y_test, Y_pred_svm, label='Actual vs Predicted (SVM)')\n",
    "plt.plot([Y_test.min(), Y_test.max()], [Y_test.min(), Y_test.max()], 'k--', lw=2, label='Identity Line')\n",
    "plt.title('Actual vs Predicted Values with Identity Line (SVM)')\n",
    "plt.xlabel('Actual Values')\n",
    "plt.ylabel('Predicted Values')\n",
    "\n",
    "# Add a trend line (line of best fit)\n",
    "z = np.polyfit(Y_test, Y_pred_svm, 1)\n",
    "p = np.poly1d(z)\n",
    "plt.plot(Y_test, p(Y_test), color='red', label='Trend Line')\n",
    "\n",
    "plt.legend()\n",
    "plt.show()"
   ]
  },
  {
   "cell_type": "code",
   "execution_count": 26,
   "id": "9a65d147-0cd9-4bd8-b47a-a869eab8e190",
   "metadata": {},
   "outputs": [
    {
     "data": {
      "text/plain": [
       "array([10,  4,  6,  7,  2,  3, 27,  9, 11,  5,  1, 18,  8, 17, 12, 14, 25,\n",
       "       22, 16, 15, 19, 26, 13,  0, 98, 20, 21, 24, 37, -3, 28])"
      ]
     },
     "execution_count": 26,
     "metadata": {},
     "output_type": "execute_result"
    }
   ],
   "source": [
    "Y.unique()"
   ]
  }
 ],
 "metadata": {
  "kernelspec": {
   "display_name": "Python 3 (ipykernel)",
   "language": "python",
   "name": "python3"
  },
  "language_info": {
   "codemirror_mode": {
    "name": "ipython",
    "version": 3
   },
   "file_extension": ".py",
   "mimetype": "text/x-python",
   "name": "python",
   "nbconvert_exporter": "python",
   "pygments_lexer": "ipython3",
   "version": "3.10.4"
  }
 },
 "nbformat": 4,
 "nbformat_minor": 5
}
