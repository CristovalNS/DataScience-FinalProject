{
 "cells": [
  {
   "cell_type": "code",
   "execution_count": 1,
   "id": "0aa24f6b-1772-4b11-bb40-37ad6a9c14da",
   "metadata": {},
   "outputs": [],
   "source": [
    "# pip install seaborn"
   ]
  },
  {
   "cell_type": "code",
   "execution_count": 2,
   "id": "2d174c03-2e3f-42c2-ab37-7d8923026984",
   "metadata": {},
   "outputs": [],
   "source": [
    "import pandas as pd\n",
    "import numpy as np\n",
    "import time\n",
    "import re\n",
    "from sklearn.impute import SimpleImputer\n",
    "from sklearn.datasets import load_iris\n",
    "from sklearn.svm import SVC\n",
    "from sklearn.metrics import accuracy_score\n",
    "from sklearn.tree import DecisionTreeRegressor\n",
    "from sklearn.model_selection import train_test_split\n",
    "from sklearn.preprocessing import LabelEncoder\n",
    "from sklearn.metrics import mean_squared_error\n",
    "from sklearn.tree import plot_tree\n",
    "from sklearn.tree import DecisionTreeClassifier, DecisionTreeRegressor\n",
    "import matplotlib.pyplot as plt"
   ]
  },
  {
   "cell_type": "code",
   "execution_count": 3,
   "id": "d7ac6005-fa9a-4d96-b807-e9e1f064c997",
   "metadata": {},
   "outputs": [],
   "source": [
    "df = pd.read_csv(\"new_unicorn_data_updated.csv\")"
   ]
  },
  {
   "cell_type": "code",
   "execution_count": 4,
   "id": "a2bb165c-5891-4926-8e14-a3704bffc661",
   "metadata": {},
   "outputs": [
    {
     "data": {
      "text/html": [
       "<div>\n",
       "<style scoped>\n",
       "    .dataframe tbody tr th:only-of-type {\n",
       "        vertical-align: middle;\n",
       "    }\n",
       "\n",
       "    .dataframe tbody tr th {\n",
       "        vertical-align: top;\n",
       "    }\n",
       "\n",
       "    .dataframe thead th {\n",
       "        text-align: right;\n",
       "    }\n",
       "</style>\n",
       "<table border=\"1\" class=\"dataframe\">\n",
       "  <thead>\n",
       "    <tr style=\"text-align: right;\">\n",
       "      <th></th>\n",
       "      <th>Company</th>\n",
       "      <th>Date Joined</th>\n",
       "      <th>Industry</th>\n",
       "      <th>Country</th>\n",
       "      <th>City</th>\n",
       "      <th>Continent</th>\n",
       "      <th>Year Founded</th>\n",
       "      <th>Funding</th>\n",
       "      <th>Funding_Numeric ($B)</th>\n",
       "      <th>Valuation (March) ($B)</th>\n",
       "      <th>Select Investors (March)</th>\n",
       "      <th>Valuation (November) ($B)</th>\n",
       "      <th>Select Investors (November)</th>\n",
       "      <th>Years to Unicorn</th>\n",
       "      <th>Most Recent Valuation</th>\n",
       "    </tr>\n",
       "  </thead>\n",
       "  <tbody>\n",
       "    <tr>\n",
       "      <th>0</th>\n",
       "      <td>SpaceX</td>\n",
       "      <td>2012-12-01</td>\n",
       "      <td>Other</td>\n",
       "      <td>United States</td>\n",
       "      <td>Hawthorne</td>\n",
       "      <td>North America</td>\n",
       "      <td>2002</td>\n",
       "      <td>$7B</td>\n",
       "      <td>7.000</td>\n",
       "      <td>100</td>\n",
       "      <td>Founders Fund, Draper Fisher Jurvetson, Rothen...</td>\n",
       "      <td>127.0</td>\n",
       "      <td>Founders Fund, Draper Fisher Jurvetson, Rothen...</td>\n",
       "      <td>10</td>\n",
       "      <td>127.0</td>\n",
       "    </tr>\n",
       "    <tr>\n",
       "      <th>1</th>\n",
       "      <td>SHEIN</td>\n",
       "      <td>2018-07-03</td>\n",
       "      <td>E-commerce And Direct-to-consumer</td>\n",
       "      <td>China</td>\n",
       "      <td>Shenzhen</td>\n",
       "      <td>Asia</td>\n",
       "      <td>2008</td>\n",
       "      <td>$2B</td>\n",
       "      <td>2.000</td>\n",
       "      <td>100</td>\n",
       "      <td>Tiger Global Management, Sequoia Capital China...</td>\n",
       "      <td>100.0</td>\n",
       "      <td>Tiger Global Management, Sequoia Capital China...</td>\n",
       "      <td>10</td>\n",
       "      <td>100.0</td>\n",
       "    </tr>\n",
       "    <tr>\n",
       "      <th>2</th>\n",
       "      <td>Stripe</td>\n",
       "      <td>2014-01-23</td>\n",
       "      <td>Fintech</td>\n",
       "      <td>United States</td>\n",
       "      <td>San Francisco</td>\n",
       "      <td>North America</td>\n",
       "      <td>2010</td>\n",
       "      <td>$2B</td>\n",
       "      <td>2.000</td>\n",
       "      <td>95</td>\n",
       "      <td>Khosla Ventures, LowercaseCapital, capitalG</td>\n",
       "      <td>95.0</td>\n",
       "      <td>Khosla Ventures, LowercaseCapital, capitalG</td>\n",
       "      <td>4</td>\n",
       "      <td>95.0</td>\n",
       "    </tr>\n",
       "    <tr>\n",
       "      <th>3</th>\n",
       "      <td>Klarna</td>\n",
       "      <td>2011-12-12</td>\n",
       "      <td>Fintech</td>\n",
       "      <td>Sweden</td>\n",
       "      <td>Stockholm</td>\n",
       "      <td>Europe</td>\n",
       "      <td>2005</td>\n",
       "      <td>$4B</td>\n",
       "      <td>4.000</td>\n",
       "      <td>46</td>\n",
       "      <td>Institutional Venture Partners, Sequoia Capita...</td>\n",
       "      <td>6.7</td>\n",
       "      <td>Institutional Venture Partners, Sequoia Capita...</td>\n",
       "      <td>6</td>\n",
       "      <td>6.7</td>\n",
       "    </tr>\n",
       "    <tr>\n",
       "      <th>4</th>\n",
       "      <td>Canva</td>\n",
       "      <td>2018-01-08</td>\n",
       "      <td>Internet Software And Services</td>\n",
       "      <td>Australia</td>\n",
       "      <td>Surry Hills</td>\n",
       "      <td>Oceania</td>\n",
       "      <td>2012</td>\n",
       "      <td>$572M</td>\n",
       "      <td>0.572</td>\n",
       "      <td>40</td>\n",
       "      <td>Sequoia Capital China, Blackbird Ventures, Mat...</td>\n",
       "      <td>40.0</td>\n",
       "      <td>Sequoia Capital China, Blackbird Ventures, Mat...</td>\n",
       "      <td>6</td>\n",
       "      <td>40.0</td>\n",
       "    </tr>\n",
       "  </tbody>\n",
       "</table>\n",
       "</div>"
      ],
      "text/plain": [
       "  Company Date Joined                           Industry        Country  \\\n",
       "0  SpaceX  2012-12-01                              Other  United States   \n",
       "1   SHEIN  2018-07-03  E-commerce And Direct-to-consumer          China   \n",
       "2  Stripe  2014-01-23                            Fintech  United States   \n",
       "3  Klarna  2011-12-12                            Fintech         Sweden   \n",
       "4   Canva  2018-01-08     Internet Software And Services      Australia   \n",
       "\n",
       "            City      Continent  Year Founded Funding  Funding_Numeric ($B)  \\\n",
       "0      Hawthorne  North America          2002     $7B                 7.000   \n",
       "1       Shenzhen           Asia          2008     $2B                 2.000   \n",
       "2  San Francisco  North America          2010     $2B                 2.000   \n",
       "3      Stockholm         Europe          2005     $4B                 4.000   \n",
       "4    Surry Hills        Oceania          2012   $572M                 0.572   \n",
       "\n",
       "   Valuation (March) ($B)                           Select Investors (March)  \\\n",
       "0                     100  Founders Fund, Draper Fisher Jurvetson, Rothen...   \n",
       "1                     100  Tiger Global Management, Sequoia Capital China...   \n",
       "2                      95        Khosla Ventures, LowercaseCapital, capitalG   \n",
       "3                      46  Institutional Venture Partners, Sequoia Capita...   \n",
       "4                      40  Sequoia Capital China, Blackbird Ventures, Mat...   \n",
       "\n",
       "   Valuation (November) ($B)  \\\n",
       "0                      127.0   \n",
       "1                      100.0   \n",
       "2                       95.0   \n",
       "3                        6.7   \n",
       "4                       40.0   \n",
       "\n",
       "                         Select Investors (November)  Years to Unicorn  \\\n",
       "0  Founders Fund, Draper Fisher Jurvetson, Rothen...                10   \n",
       "1  Tiger Global Management, Sequoia Capital China...                10   \n",
       "2        Khosla Ventures, LowercaseCapital, capitalG                 4   \n",
       "3  Institutional Venture Partners, Sequoia Capita...                 6   \n",
       "4  Sequoia Capital China, Blackbird Ventures, Mat...                 6   \n",
       "\n",
       "   Most Recent Valuation  \n",
       "0                  127.0  \n",
       "1                  100.0  \n",
       "2                   95.0  \n",
       "3                    6.7  \n",
       "4                   40.0  "
      ]
     },
     "execution_count": 4,
     "metadata": {},
     "output_type": "execute_result"
    }
   ],
   "source": [
    "df.head()"
   ]
  },
  {
   "cell_type": "code",
   "execution_count": 5,
   "id": "84d7d843-df9e-417f-b461-db7107fdfac3",
   "metadata": {},
   "outputs": [],
   "source": [
    "# df[df[\"Company\"] == \"ByteDance\"]"
   ]
  },
  {
   "cell_type": "code",
   "execution_count": 6,
   "id": "c5372242-8f74-451b-9f3f-e1e2e80b68ac",
   "metadata": {},
   "outputs": [
    {
     "data": {
      "text/plain": [
       "0                                   Other\n",
       "1       E-commerce And Direct-to-consumer\n",
       "2                                 Fintech\n",
       "3                                 Fintech\n",
       "4          Internet Software And Services\n",
       "                      ...                \n",
       "1034    E-commerce And Direct-to-consumer\n",
       "1035    E-commerce And Direct-to-consumer\n",
       "1036                  Consumer And Retail\n",
       "1037                              Fintech\n",
       "1038    E-commerce And Direct-to-consumer\n",
       "Name: Industry, Length: 1039, dtype: object"
      ]
     },
     "execution_count": 6,
     "metadata": {},
     "output_type": "execute_result"
    }
   ],
   "source": [
    "df['Industry']"
   ]
  },
  {
   "cell_type": "code",
   "execution_count": 7,
   "id": "67e1cb03-8d2e-498f-b2d8-30e6212d3094",
   "metadata": {},
   "outputs": [],
   "source": [
    "# Select features and target variable\n",
    "features_classification = ['Industry', 'Country']\n",
    "features_regression = ['Year Founded', 'Funding_Numeric ($B)']\n",
    "target_variable = 'Years to Unicorn'"
   ]
  },
  {
   "cell_type": "code",
   "execution_count": 16,
   "id": "4499d642-7978-46ba-bfe6-d8a4419cb50c",
   "metadata": {},
   "outputs": [],
   "source": [
    "# Split the data into training and testing sets\n",
    "X_class, X_reg, y = df[features_classification], df[features_regression], df[target_variable]\n",
    "X_class_train, X_class_test, X_reg_train, X_reg_test, y_train, y_test = train_test_split(\n",
    "    X_class, X_reg, y, test_size=0.2, random_state=42\n",
    ")"
   ]
  },
  {
   "cell_type": "code",
   "execution_count": 26,
   "id": "cce0fea4-b518-4bd1-ac22-436257cb12ed",
   "metadata": {},
   "outputs": [
    {
     "name": "stderr",
     "output_type": "stream",
     "text": [
      "/Users/cristovalneosasono/FoDS_FinalProject/venv/lib/python3.10/site-packages/sklearn/preprocessing/_encoders.py:975: FutureWarning: `sparse` was renamed to `sparse_output` in version 1.2 and will be removed in 1.4. `sparse_output` is ignored unless you leave `sparse` to its default value.\n",
      "  warnings.warn(\n"
     ]
    }
   ],
   "source": [
    "from sklearn.compose import ColumnTransformer\n",
    "from sklearn.pipeline import Pipeline\n",
    "\n",
    "# Create a ColumnTransformer to apply OneHotEncoder only to specified columns\n",
    "preprocessor = ColumnTransformer(\n",
    "    transformers=[\n",
    "        ('encoder', OneHotEncoder(sparse=False, drop='first'), features_classification)\n",
    "    ],\n",
    "    remainder='passthrough'\n",
    ")\n",
    "\n",
    "# Create a pipeline for the classifier\n",
    "classifier = Pipeline([\n",
    "    ('preprocessor', preprocessor),\n",
    "    ('classifier', DecisionTreeClassifier())\n",
    "])\n",
    "\n",
    "# Fit the classifier\n",
    "classifier.fit(X_class_train, y_train)\n",
    "\n",
    "# Make predictions using the trained classifier\n",
    "industry_country_predictions = classifier.predict(X_class_test)\n",
    "\n",
    "# Decision Tree Regressor for Year Founded and Funding_Numeric ($B)\n",
    "regressor = DecisionTreeRegressor()\n",
    "regressor.fit(X_reg_train, y_train)\n",
    "\n",
    "# Make predictions using the trained regressor\n",
    "year_funding_predictions = regressor.predict(X_reg_test)"
   ]
  },
  {
   "cell_type": "code",
   "execution_count": 29,
   "id": "21364c6c-0670-443c-a15c-aa70ad131d6b",
   "metadata": {},
   "outputs": [
    {
     "name": "stdout",
     "output_type": "stream",
     "text": [
      "Mean Squared Error (Combined Model): 3.385354162515137\n"
     ]
    }
   ],
   "source": [
    "import numpy as np\n",
    "from sklearn.metrics import mean_squared_error\n",
    "from sklearn.ensemble import GradientBoostingRegressor\n",
    "\n",
    "# Use the predictions of the classifier as additional feature for the regressor\n",
    "X_reg_train_combined = np.column_stack((X_reg_train, classifier.predict(X_class_train).reshape(-1, 1)))\n",
    "X_reg_test_combined = np.column_stack((X_reg_test, classifier.predict(X_class_test).reshape(-1, 1)))\n",
    "\n",
    "# Train a regressor (you can use a different regressor if needed)\n",
    "regressor_combined = GradientBoostingRegressor()\n",
    "regressor_combined.fit(X_reg_train_combined, y_train)\n",
    "\n",
    "# Make predictions using the combined model\n",
    "combined_predictions = regressor_combined.predict(X_reg_test_combined)\n",
    "\n",
    "# Evaluate the performance\n",
    "mse_combined = mean_squared_error(y_test, combined_predictions)\n",
    "print(f'Mean Squared Error (Combined Model): {mse_combined}')\n"
   ]
  },
  {
   "cell_type": "code",
   "execution_count": 30,
   "id": "d0c561e2-e5b8-4a07-b826-bb470859f5be",
   "metadata": {},
   "outputs": [
    {
     "name": "stdout",
     "output_type": "stream",
     "text": [
      "Mean Squared Error (Combined Model): 6.1311077315541604\n"
     ]
    }
   ],
   "source": [
    "from sklearn.tree import DecisionTreeRegressor\n",
    "from sklearn.metrics import mean_squared_error\n",
    "\n",
    "# Use the predictions of the classifier as an additional feature for the regressor\n",
    "X_reg_train_combined = np.column_stack((X_reg_train, classifier.predict(X_class_train)))\n",
    "X_reg_test_combined = np.column_stack((X_reg_test, classifier.predict(X_class_test)))\n",
    "\n",
    "# Train a Decision Tree Regressor for the combined model\n",
    "combined_regressor = DecisionTreeRegressor()\n",
    "combined_regressor.fit(X_reg_train_combined, y_train)\n",
    "\n",
    "# Make predictions using the combined model\n",
    "combined_predictions = combined_regressor.predict(X_reg_test_combined)\n",
    "\n",
    "# Evaluate the performance\n",
    "mse_combined = mean_squared_error(y_test, combined_predictions)\n",
    "print(f'Mean Squared Error (Combined Model): {mse_combined}')\n"
   ]
  }
 ],
 "metadata": {
  "kernelspec": {
   "display_name": "Python 3 (ipykernel)",
   "language": "python",
   "name": "python3"
  },
  "language_info": {
   "codemirror_mode": {
    "name": "ipython",
    "version": 3
   },
   "file_extension": ".py",
   "mimetype": "text/x-python",
   "name": "python",
   "nbconvert_exporter": "python",
   "pygments_lexer": "ipython3",
   "version": "3.10.4"
  }
 },
 "nbformat": 4,
 "nbformat_minor": 5
}
